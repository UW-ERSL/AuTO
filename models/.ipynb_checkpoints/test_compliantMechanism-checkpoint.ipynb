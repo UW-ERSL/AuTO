{
 "cells": [
  {
   "cell_type": "code",
   "execution_count": null,
   "id": "meaning-nirvana",
   "metadata": {},
   "outputs": [],
   "source": [
    "# run this first time to clone the directory \n",
    "# !git clone https://github.com/aadityacs/AuTOp.git\n",
    "# %cd AuTOp/"
   ]
  },
  {
   "cell_type": "code",
   "execution_count": null,
   "id": "split-attack",
   "metadata": {},
   "outputs": [],
   "source": [
    "import numpy as np\n",
    "import jax\n",
    "import jax.numpy as jnp\n",
    "from jax import jit, grad, random, jacfwd, value_and_grad\n",
    "from jax.ops import index, index_add, index_update\n",
    "from functools import partial\n",
    "import time\n",
    "from utilfuncs import Mesher, computeLocalElements, computeFilter\n",
    "from mmaOptimize import optimize\n",
    "import matplotlib.pyplot as plt\n",
    "rand_key = random.PRNGKey(0);"
   ]
  },
  {
   "cell_type": "code",
   "execution_count": null,
   "id": "regulation-squad",
   "metadata": {},
   "outputs": [],
   "source": [
    "nelx, nely = 40, 20;\n",
    "elemSize = np.array([1., 1.])\n",
    "mesh = {'nelx':nelx, 'nely':nely, 'elemSize':elemSize,\\\n",
    "        'ndof':2*(nelx+1)*(nely+1), 'numElems':nelx*nely};"
   ]
  },
  {
   "cell_type": "code",
   "execution_count": null,
   "id": "acoustic-lighting",
   "metadata": {},
   "outputs": [],
   "source": [
    "material = {'Emax':1., 'Emin':1e-3, 'nu':0.3, 'penal':3.};"
   ]
  },
  {
   "cell_type": "code",
   "execution_count": null,
   "id": "discrete-track",
   "metadata": {},
   "outputs": [],
   "source": [
    "filterRadius = 1.5;\n",
    "H, Hs = computeFilter(mesh, filterRadius);\n",
    "ft = {'type':1, 'H':H, 'Hs':Hs};"
   ]
  },
  {
   "cell_type": "code",
   "execution_count": null,
   "id": "peripheral-dictionary",
   "metadata": {},
   "outputs": [],
   "source": [
    "# inverter\n",
    "ndof = 2*(nelx+1)*(nely+1);\n",
    "force = np.zeros((ndof,1));\n",
    "forceOut = np.zeros((ndof,1));\n",
    "dofs=np.arange(ndof);\n",
    "nodeIn = 2*nely;\n",
    "nodeOut = 2*(nelx+1)*(nely+1)-2;\n",
    "fixed = dofs[np.r_[0:4:1,2*(nely+1)-1:2*(nelx+1)*(nely+1):2*(nely+1)]];\n",
    "force[nodeIn, 0 ] = 1;\n",
    "forceOut[nodeOut, 0 ] = -1;\n",
    "free = np.setdiff1d(np.arange(ndof),fixed);\n",
    "symXAxis = False;\n",
    "symYAxis = False;\n",
    "bc = {'nodeIn':nodeIn, 'nodeOut':nodeOut,\\\n",
    "      'force':force, 'forceOut':forceOut, 'fixed':fixed, 'free':free,\\\n",
    "      'symXAxis':symXAxis, 'symYAxis':symYAxis};"
   ]
  },
  {
   "cell_type": "code",
   "execution_count": null,
   "id": "increasing-lafayette",
   "metadata": {},
   "outputs": [],
   "source": [
    "globalVolumeConstraint = {'isOn':True, 'vf':0.5};"
   ]
  },
  {
   "cell_type": "code",
   "execution_count": null,
   "id": "convertible-genealogy",
   "metadata": {},
   "outputs": [],
   "source": [
    "optimizationParams = {'maxIters':100,'minIters':100,'relTol':0.02};"
   ]
  },
  {
   "cell_type": "code",
   "execution_count": null,
   "id": "loose-wireless",
   "metadata": {},
   "outputs": [],
   "source": [
    "class CompliantMechanismTopOpt:\n",
    "    def __init__(self, mesh, bc, material, globalvolCons):\n",
    "        self.mesh = mesh;\n",
    "        self.material = material;\n",
    "        self.bc = bc;\n",
    "        M = Mesher();\n",
    "        self.edofMat, self.idx = M.getMeshStructure(mesh);\n",
    "        self.D0 = M.getD0(self.material);\n",
    "        self.globalVolumeConstraint = globalvolCons;\n",
    "        self.objectiveHandle = jit(value_and_grad(self.computeObjective))\n",
    "        self.consHandle = self.computeConstraints;\n",
    "        self.numConstraints = 1;\n",
    "        \n",
    "    #-----------------------#\n",
    "    def computeObjective(self, rho):\n",
    "        @jit\n",
    "        def SIMPMaterial(rho):\n",
    "            Y = self.material['Emin'] + \\\n",
    "                (self.material['Emax']-self.material['Emin'])*\\\n",
    "                               (rho+0.01)**self.material['penal'];\n",
    "            return Y;\n",
    "        Y = SIMPMaterial(rho);\n",
    "        #-----------------------#\n",
    "        @jit\n",
    "        def assembleK( Y):\n",
    "            K = jnp.zeros((self.mesh['ndof'],)*2);\n",
    "            kflat_t = (self.D0.flatten()[np.newaxis]).T \n",
    "            sK = (kflat_t*Y).T.flatten();\n",
    "            K = jax.ops.index_add(K, self.idx, sK);\n",
    "            # springs at input and output nodes\n",
    "            K = jax.ops.index_add(K,jax.ops.index[self.bc['nodeIn'],\\\n",
    "                                                  self.bc['nodeIn']],0.1)\n",
    "            K = jax.ops.index_add(K,jax.ops.index[self.bc['nodeOut'],\\\n",
    "                                                  self.bc['nodeOut']],0.1)\n",
    "            return K;\n",
    "        K = assembleK(Y);\n",
    "        #-----------------------#\n",
    "        @jit\n",
    "        def solve( K): \n",
    "            u_free = jax.scipy.linalg.solve\\\n",
    "                (K[self.bc['free'],:][:,self.bc['free']], \\\n",
    "                self.bc['force'][self.bc['free']], \\\n",
    "                 sym_pos = True, check_finite=False);\n",
    "            u = jnp.zeros((self.mesh['ndof']));\n",
    "            u = jax.ops.index_add(u, self.bc['free'], u_free.reshape(-1));\n",
    "            return u;\n",
    "        u = solve(K);\n",
    "        return u[self.bc['nodeOut']];\n",
    "    #-----------------------#\n",
    "    def computeConstraints(self, rho, epoch): \n",
    "        @jit\n",
    "        def computeGlobalVolumeConstraint(rho):\n",
    "            vc = jnp.mean(rho)/self.globalVolumeConstraint['vf'] - 1.;\n",
    "            return vc;\n",
    "        c, gradc = value_and_grad(computeGlobalVolumeConstraint)\\\n",
    "                                    (rho);\n",
    "        c, gradc = c.reshape((1,1)), gradc.reshape((1,-1));\n",
    "        return c, gradc\n",
    "    #-----------------------#\n",
    "    def TO(self, optimizationParams, ft):\n",
    "        optimize(self.mesh, optimizationParams, ft, \\\n",
    "             self.objectiveHandle, self.consHandle, self.numConstraints);\n",
    "        \n",
    "                 "
   ]
  },
  {
   "cell_type": "code",
   "execution_count": null,
   "id": "acute-terrain",
   "metadata": {},
   "outputs": [],
   "source": [
    "Opt = CompliantMechanismTopOpt(mesh, bc, material, \\\n",
    "                globalVolumeConstraint);\n",
    "Opt.TO(optimizationParams, ft)"
   ]
  },
  {
   "cell_type": "code",
   "execution_count": null,
   "id": "another-houston",
   "metadata": {},
   "outputs": [],
   "source": []
  }
 ],
 "metadata": {
  "kernelspec": {
   "display_name": "Python 3",
   "language": "python",
   "name": "python3"
  },
  "language_info": {
   "codemirror_mode": {
    "name": "ipython",
    "version": 3
   },
   "file_extension": ".py",
   "mimetype": "text/x-python",
   "name": "python",
   "nbconvert_exporter": "python",
   "pygments_lexer": "ipython3",
   "version": "3.8.5"
  }
 },
 "nbformat": 4,
 "nbformat_minor": 5
}
