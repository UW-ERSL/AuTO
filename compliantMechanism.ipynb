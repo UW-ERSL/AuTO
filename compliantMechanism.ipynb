{
  "nbformat": 4,
  "nbformat_minor": 5,
  "metadata": {
    "kernelspec": {
      "display_name": "Python 3",
      "language": "python",
      "name": "python3"
    },
    "language_info": {
      "codemirror_mode": {
        "name": "ipython",
        "version": 3
      },
      "file_extension": ".py",
      "mimetype": "text/x-python",
      "name": "python",
      "nbconvert_exporter": "python",
      "pygments_lexer": "ipython3",
      "version": "3.8.5"
    },
    "colab": {
      "name": "compliantMechanism.ipynb",
      "provenance": [],
      "collapsed_sections": [],
      "include_colab_link": true
    },
    "accelerator": "GPU"
  },
  "cells": [
    {
      "cell_type": "markdown",
      "metadata": {
        "id": "view-in-github",
        "colab_type": "text"
      },
      "source": [
        "<a href=\"https://colab.research.google.com/github/UW-ERSL/AuTO/blob/main/compliantMechanism.ipynb\" target=\"_parent\"><img src=\"https://colab.research.google.com/assets/colab-badge.svg\" alt=\"Open In Colab\"/></a>"
      ]
    },
    {
      "cell_type": "code",
      "metadata": {
        "id": "special-window"
      },
      "source": [
        "# run this first time to clone the directory \n",
        "!git clone https://github.com/UW-ERSL/AuTO.git\n",
        "%cd AuTO/models"
      ],
      "id": "special-window",
      "execution_count": null,
      "outputs": []
    },
    {
      "cell_type": "code",
      "metadata": {
        "id": "removed-victim"
      },
      "source": [
        "import numpy as np\n",
        "import jax\n",
        "import jax.numpy as jnp\n",
        "from jax import jit, value_and_grad\n",
        "from jax.ops import index, index_add\n",
        "import time\n",
        "from utilfuncs import Mesher, computeLocalElements, computeFilter\n",
        "from mmaOptimize import optimize\n",
        "import matplotlib.pyplot as plt"
      ],
      "id": "removed-victim",
      "execution_count": 2,
      "outputs": []
    },
    {
      "cell_type": "code",
      "metadata": {
        "id": "sitting-milwaukee"
      },
      "source": [
        "nelx, nely = 40, 20;\n",
        "elemSize = np.array([1., 1.])\n",
        "mesh = {'nelx':nelx, 'nely':nely, 'elemSize':elemSize,\\\n",
        "        'ndof':2*(nelx+1)*(nely+1), 'numElems':nelx*nely}"
      ],
      "id": "sitting-milwaukee",
      "execution_count": 3,
      "outputs": []
    },
    {
      "cell_type": "code",
      "metadata": {
        "id": "fancy-configuration"
      },
      "source": [
        "material = {'Emax':1., 'Emin':1e-3, 'nu':0.3, 'penal':3.}"
      ],
      "id": "fancy-configuration",
      "execution_count": 4,
      "outputs": []
    },
    {
      "cell_type": "code",
      "metadata": {
        "id": "welsh-jacket"
      },
      "source": [
        "filterRadius = 1.5;\n",
        "H, Hs = computeFilter(mesh, filterRadius)\n",
        "ft = {'type':1, 'H':H, 'Hs':Hs}"
      ],
      "id": "welsh-jacket",
      "execution_count": 5,
      "outputs": []
    },
    {
      "cell_type": "code",
      "metadata": {
        "id": "lonely-nutrition"
      },
      "source": [
        "# inverter\n",
        "ndof = 2*(nelx+1)*(nely+1)\n",
        "force = np.zeros((ndof,1))\n",
        "forceOut = np.zeros((ndof,1))\n",
        "dofs=np.arange(ndof)\n",
        "nodeIn = 2*nely\n",
        "nodeOut = 2*(nelx+1)*(nely+1)-2\n",
        "fixed = dofs[np.r_[0:4:1,2*(nely+1)-1:2*(nelx+1)*(nely+1):2*(nely+1)]]\n",
        "force[nodeIn, 0 ] = 1\n",
        "forceOut[nodeOut, 0 ] = -1\n",
        "free = np.setdiff1d(np.arange(ndof),fixed)\n",
        "symXAxis = False\n",
        "symYAxis = False\n",
        "methodType = 'uOut' # 'uOut' # 'MSE_SE' # 'wMSE'\n",
        "bc = {'nodeIn':nodeIn, 'nodeOut':nodeOut,\\\n",
        "      'force':force, 'forceOut':forceOut, 'fixed':fixed, 'free':free,\\\n",
        "      'symXAxis':symXAxis, 'symYAxis':symYAxis, 'methodType':methodType}"
      ],
      "id": "lonely-nutrition",
      "execution_count": 6,
      "outputs": []
    },
    {
      "cell_type": "code",
      "metadata": {
        "id": "sexual-kinase"
      },
      "source": [
        "globalVolumeConstraint = {'isOn':True, 'vf':0.35}"
      ],
      "id": "sexual-kinase",
      "execution_count": 7,
      "outputs": []
    },
    {
      "cell_type": "code",
      "metadata": {
        "id": "aging-accreditation"
      },
      "source": [
        "optimizationParams = {'maxIters':200,'minIters':100,'relTol':0.02}"
      ],
      "id": "aging-accreditation",
      "execution_count": 8,
      "outputs": []
    },
    {
      "cell_type": "code",
      "metadata": {
        "id": "assumed-tribe"
      },
      "source": [
        "class CompliantMechanismTopOpt:\n",
        "    def __init__(self, mesh, bc, material, globalvolCons):\n",
        "        self.mesh = mesh\n",
        "        self.material = material\n",
        "        self.bc = bc\n",
        "        M = Mesher()\n",
        "        self.edofMat, self.idx = M.getMeshStructure(mesh)\n",
        "        self.D0 = M.getD0(self.material)\n",
        "        self.globalVolumeConstraint = globalvolCons\n",
        "        self.objectiveHandle = jit(value_and_grad(self.computeObjective))\n",
        "        self.consHandle = self.computeConstraints\n",
        "        self.numConstraints = 1\n",
        "        \n",
        "    #-----------------------#\n",
        "    # Code snippet 3.2\n",
        "    def computeObjective(self, rho):\n",
        "        @jit\n",
        "        def MaterialModel(rho):\n",
        "            E = self.material['Emin'] + \\\n",
        "                (self.material['Emax']-self.material['Emin'])*\\\n",
        "                               (rho+0.01)**self.material['penal'];\n",
        "            return E\n",
        "        #-----------------------#\n",
        "        @jit\n",
        "        # Code snippet 3.1\n",
        "        def assembleKWithSprings( E):\n",
        "            K = jnp.zeros((self.mesh['ndof'],)*2)\n",
        "            kflat_t = (self.D0.flatten()[np.newaxis]).T \n",
        "            sK = (kflat_t*E).T.flatten()\n",
        "            K = jax.ops.index_add(K, self.idx, sK)\n",
        "            # springs at input and output nodes\n",
        "            K = jax.ops.index_add(K,jax.ops.index[self.bc['nodeIn'],\\\n",
        "                                                  self.bc['nodeIn']],0.1)\n",
        "            K = jax.ops.index_add(K,jax.ops.index[self.bc['nodeOut'],\\\n",
        "                                                  self.bc['nodeOut']],0.1)\n",
        "            return K\n",
        "        #-----------------------#\n",
        "        @jit\n",
        "        def solveKuf(K): \n",
        "            u_free = jax.scipy.linalg.solve\\\n",
        "                (K[self.bc['free'],:][:,self.bc['free']], \\\n",
        "                self.bc['force'][self.bc['free']], \\\n",
        "                 sym_pos = True, check_finite=False)\n",
        "            u = jnp.zeros((self.mesh['ndof']))\n",
        "            u = jax.ops.index_add(u, self.bc['free'], u_free.reshape(-1))\n",
        "            return u\n",
        "        #-----------------------#\n",
        "        @jit\n",
        "        def solve_dummy(K): \n",
        "            v_free = jax.scipy.linalg.solve\\\n",
        "                (K[self.bc['free'],:][:,self.bc['free']], \\\n",
        "                self.bc['forceOut'][self.bc['free']], \\\n",
        "                 sym_pos = True, check_finite=False)\n",
        "            v = jnp.zeros((self.mesh['ndof']))\n",
        "            v = jax.ops.index_add(v, self.bc['free'], v_free.reshape(-1))\n",
        "            return v\n",
        "        #-----------------------#\n",
        "        E = MaterialModel(rho)\n",
        "        K = assembleKWithSprings(E)\n",
        "        u = solveKuf(K)\n",
        "        # Code snippet 3.4\n",
        "        if self.bc['methodType'] == 'uOut':\n",
        "          J = u[self.bc['nodeOut']]\n",
        "        elif self.bc['methodType'] == 'MSE_SE':\n",
        "          v = solve_dummy(K)\n",
        "          MSE = jnp.dot(v.T, jnp.dot(K,u))\n",
        "          SE = jnp.dot(u.T, jnp.dot(K,u))\n",
        "          J = -MSE/SE\n",
        "        elif self.bc['methodType'] == 'wMSE':\n",
        "          w = 0.9\n",
        "          v = solve_dummy(K)\n",
        "          MSE = jnp.dot(v.T, jnp.dot(K,u))\n",
        "          SE = jnp.dot(u.T, jnp.dot(K,u))\n",
        "          J = -w*MSE + (1 - w)*SE\n",
        "        return J\n",
        "    #-----------------------#\n",
        "    def computeConstraints(self, rho, epoch): \n",
        "        @jit\n",
        "        def computeGlobalVolumeConstraint(rho):\n",
        "            vc = jnp.mean(rho)/self.globalVolumeConstraint['vf'] - 1.\n",
        "            return vc\n",
        "        c, gradc = value_and_grad(computeGlobalVolumeConstraint)\\\n",
        "                                    (rho)\n",
        "        c, gradc = c.reshape((1,1)), gradc.reshape((1,-1))\n",
        "        return c, gradc\n",
        "    #-----------------------#\n",
        "    def TO(self, optimizationParams, ft):\n",
        "        optimize(self.mesh, optimizationParams, ft, \\\n",
        "             self.objectiveHandle, self.consHandle, self.numConstraints)\n",
        "        \n",
        "                 "
      ],
      "id": "assumed-tribe",
      "execution_count": 9,
      "outputs": []
    },
    {
      "cell_type": "code",
      "metadata": {
        "id": "swiss-death"
      },
      "source": [
        "Opt = CompliantMechanismTopOpt(mesh, bc, material, \\\n",
        "                globalVolumeConstraint)\n",
        "Opt.TO(optimizationParams, ft)"
      ],
      "id": "swiss-death",
      "execution_count": null,
      "outputs": []
    }
  ]
}