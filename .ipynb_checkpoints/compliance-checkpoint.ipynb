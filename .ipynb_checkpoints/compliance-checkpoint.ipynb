{
 "cells": [
  {
   "cell_type": "markdown",
   "id": "53425250",
   "metadata": {
    "colab_type": "text",
    "id": "view-in-github"
   },
   "source": [
    "<a href=\"https://colab.research.google.com/github/UW-ERSL/AuTO/blob/main/compliance.ipynb\" target=\"_parent\"><img src=\"https://colab.research.google.com/assets/colab-badge.svg\" alt=\"Open In Colab\"/></a>"
   ]
  },
  {
   "cell_type": "markdown",
   "id": "modern-reaction",
   "metadata": {
    "id": "modern-reaction"
   },
   "source": [
    "### Imports"
   ]
  },
  {
   "cell_type": "code",
   "execution_count": null,
   "id": "united-venture",
   "metadata": {
    "id": "united-venture"
   },
   "outputs": [],
   "source": [
    "# run this first time to clone the directory \n",
    "!git clone https://github.com/UW-ERSL/AuTO.git\n",
    "%cd AuTO/models/\n"
   ]
  },
  {
   "cell_type": "code",
   "execution_count": null,
   "id": "literary-windsor",
   "metadata": {
    "id": "literary-windsor"
   },
   "outputs": [],
   "source": [
    "# We begin by importing the necessary libraries\n",
    "import numpy as np\n",
    "import jax\n",
    "import jax.numpy as jnp\n",
    "from jax import jit, value_and_grad\n",
    "import time\n",
    "from utilfuncs import Mesher, computeLocalElements, computeFilter\n",
    "from mmaOptimize import optimize\n",
    "import matplotlib.pyplot as plt"
   ]
  },
  {
   "cell_type": "markdown",
   "id": "municipal-division",
   "metadata": {
    "id": "municipal-division"
   },
   "source": [
    "### Mesh"
   ]
  },
  {
   "cell_type": "code",
   "execution_count": null,
   "id": "tested-dimension",
   "metadata": {
    "id": "tested-dimension"
   },
   "outputs": [],
   "source": [
    "nelx, nely = 60, 30\n",
    "elemSize = np.array([1., 1.])\n",
    "mesh = {'nelx':nelx, 'nely':nely, 'elemSize':elemSize,\\\n",
    "        'ndof':2*(nelx+1)*(nely+1), 'numElems':nelx*nely}"
   ]
  },
  {
   "cell_type": "markdown",
   "id": "rising-rebound",
   "metadata": {
    "id": "rising-rebound"
   },
   "source": [
    "### Material"
   ]
  },
  {
   "cell_type": "code",
   "execution_count": null,
   "id": "pharmaceutical-gossip",
   "metadata": {
    "id": "pharmaceutical-gossip"
   },
   "outputs": [],
   "source": [
    "material = {'Emax':1., 'Emin':1e-3, 'nu':0.3, 'penal':3.}"
   ]
  },
  {
   "cell_type": "markdown",
   "id": "patent-structure",
   "metadata": {
    "id": "patent-structure"
   },
   "source": [
    "### Filter"
   ]
  },
  {
   "cell_type": "code",
   "execution_count": null,
   "id": "secondary-ontario",
   "metadata": {
    "id": "secondary-ontario"
   },
   "outputs": [],
   "source": [
    "filterRadius = 1.5\n",
    "H, Hs = computeFilter(mesh, filterRadius)\n",
    "ft = {'type':1, 'H':H, 'Hs':Hs}"
   ]
  },
  {
   "cell_type": "markdown",
   "id": "tender-listing",
   "metadata": {
    "id": "tender-listing"
   },
   "source": [
    "### Boundary condition"
   ]
  },
  {
   "cell_type": "code",
   "execution_count": null,
   "id": "straight-bidding",
   "metadata": {
    "id": "straight-bidding"
   },
   "outputs": [],
   "source": [
    "example = 1\n",
    "if(example == 1):\n",
    "    # tip cantilever\n",
    "    force = np.zeros((mesh['ndof'],1))\n",
    "    dofs=np.arange(mesh['ndof'])\n",
    "    fixed = dofs[0:2*(nely+1):1]\n",
    "    free = jnp.setdiff1d(np.arange(mesh['ndof']),fixed)\n",
    "    force[2*(nelx+1)*(nely+1)-2*nely+1, 0 ] = -1\n",
    "    symXAxis = False\n",
    "    symYAxis = False\n",
    "elif(example == 2):\n",
    "    ndof = 2*(nelx+1)*(nely+1)\n",
    "    force = np.zeros((mesh['ndof'],1))\n",
    "    dofs=np.arange(mesh['ndof'])\n",
    "    fixed = dofs[0:2*(nely+1):1]\n",
    "    free = jnp.setdiff1d(np.arange(mesh['ndof']),fixed)\n",
    "    force[2*(nelx+1)*(nely+1)- (nely+1), 0 ] = -1\n",
    "    symXAxis = True\n",
    "    symYAxis = False\n",
    "bc = {'force':force, 'fixed':fixed,'free':free,\\\n",
    "          'symXAxis':symXAxis, 'symYAxis':symYAxis}"
   ]
  },
  {
   "cell_type": "markdown",
   "id": "valid-former",
   "metadata": {
    "id": "valid-former"
   },
   "source": [
    "### Constraints"
   ]
  },
  {
   "cell_type": "code",
   "execution_count": null,
   "id": "northern-affect",
   "metadata": {
    "id": "northern-affect"
   },
   "outputs": [],
   "source": [
    "globalVolumeConstraint = {'isOn':True, 'vf':0.5}"
   ]
  },
  {
   "cell_type": "markdown",
   "id": "private-kansas",
   "metadata": {
    "id": "private-kansas"
   },
   "source": [
    "### Optimize"
   ]
  },
  {
   "cell_type": "code",
   "execution_count": null,
   "id": "enclosed-crossing",
   "metadata": {
    "id": "enclosed-crossing"
   },
   "outputs": [],
   "source": [
    "optimizationParams = {'maxIters':200,'minIters':100,'relTol':0.05}\n",
    "projection = {'isOn':False, 'beta':4, 'c0':0.5}"
   ]
  },
  {
   "cell_type": "code",
   "execution_count": null,
   "id": "optical-forth",
   "metadata": {
    "id": "optical-forth"
   },
   "outputs": [],
   "source": [
    "class ComplianceMinimizer:\n",
    "    def __init__(self, mesh, bc, material, \\\n",
    "                 globalvolCons, projection):\n",
    "        self.mesh = mesh\n",
    "        self.material = material\n",
    "        self.bc = bc\n",
    "        M = Mesher()\n",
    "        self.edofMat, self.idx = M.getMeshStructure(mesh)\n",
    "        self.K0 = M.getK0(self.material)\n",
    "        self.globalVolumeConstraint = globalvolCons\n",
    "        self.objectiveHandle = jit(value_and_grad(self. computeCompliance))\n",
    "        \n",
    "        self.consHandle = self.computeConstraints\n",
    "        self.numConstraints = 1\n",
    "        self.projection = projection\n",
    "    #-----------------------#\n",
    "    # Code snippet 2.1\n",
    "    def computeCompliance(self, rho):\n",
    "        #-----------------------#\n",
    "        @jit\n",
    "        # Code snippet 2.9\n",
    "        def projectionFilter(rho):\n",
    "            if(self.projection['isOn']):\n",
    "                v1 = np.tanh(self.projection['c0']*self.projection['beta'])\n",
    "                nm = v1 + jnp.tanh(self.projection['beta']*(rho-self.projection['c0']))\n",
    "                dnm = v1 + jnp.tanh(self.projection['beta']*(1.-self.projection['c0']))\n",
    "                return nm/dnm\n",
    "            else:\n",
    "                return rho\n",
    "        #-----------------------#\n",
    "        @jit\n",
    "        # Code snippet 2.2\n",
    "        def materialModel(rho):\n",
    "            E = self.material['Emin'] + \\\n",
    "                (self.material['Emax']-self.material['Emin'])*\\\n",
    "                                (rho+0.01)**self.material['penal']\n",
    "            return E\n",
    "        #-----------------------#\n",
    "##         @jit\n",
    "          # Code snippet 2.8\n",
    "#         def materialModel(rho): # RAMP\n",
    "#             S = 8. # RAMP param\n",
    "#             E = 0.001*self.material['Emax'] +\\\n",
    "#                     self.material['Emax']*(rho/ (1.+S*(1.-rho)) )\n",
    "#             return E\n",
    "#         Y = materialModel(rho)\n",
    "        #-----------------------#\n",
    "        @jit\n",
    "        # Code snippet 2.3\n",
    "        def assembleK(E):\n",
    "            K_asm = jnp.zeros((self.mesh['ndof'], self.mesh['ndof']))\n",
    "            K_elem = (self.K0.flatten()[np.newaxis]).T \n",
    "            # print(K_elem.shape)\n",
    "\n",
    "            K_elem = (K_elem*E).T.flatten()\n",
    "            K_asm = K_asm.at[(self.idx)].add(K_elem) #UPDATED\n",
    "            return K_asm\n",
    "        #-----------------------#\n",
    "        @jit\n",
    "        # Code snippet 2.4\n",
    "        def solveKuf(K): \n",
    "            u_free = jax.scipy.linalg.solve\\\n",
    "                    (K[self.bc['free'],:][:,self.bc['free']], \\\n",
    "                    self.bc['force'][self.bc['free']], \\\n",
    "                     sym_pos = True, check_finite=False)\n",
    "            u = jnp.zeros((self.mesh['ndof']))\n",
    "            u = u.at[self.bc['free']].set(u_free.reshape(-1)) #UPDATED\n",
    "            return u\n",
    "        #-----------------------#\n",
    "        rho = projectionFilter(rho)\n",
    "        E = materialModel(rho)\n",
    "        K = assembleK(E)\n",
    "        u = solveKuf(K)\n",
    "        J = jnp.dot(self.bc['force'].T, u)[0]\n",
    "        \n",
    "        return J\n",
    "    #-----------------------#\n",
    "    def computeConstraints(self, rho, epoch): \n",
    "        @jit\n",
    "        # Code snippet 2.6\n",
    "        def computeGlobalVolumeConstraint(rho):\n",
    "            g = jnp.mean(rho)/self.globalVolumeConstraint['vf'] - 1.\n",
    "            return g\n",
    "        # Code snippet 2.7\n",
    "        c, gradc = value_and_grad(computeGlobalVolumeConstraint)\\\n",
    "                                    (rho);\n",
    "        c, gradc = c.reshape((1,1)), gradc.reshape((1,-1))\n",
    "        return c, gradc\n",
    "    #-----------------------#\n",
    "    def TO(self, optimizationParams, ft):\n",
    "        optimize(self.mesh, optimizationParams, ft, \\\n",
    "             self.objectiveHandle, self.consHandle, self.numConstraints)"
   ]
  },
  {
   "cell_type": "code",
   "execution_count": null,
   "id": "miniature-poker",
   "metadata": {
    "id": "miniature-poker"
   },
   "outputs": [],
   "source": [
    "Opt = ComplianceMinimizer(mesh, bc, material, \\\n",
    "                globalVolumeConstraint, projection)\n",
    "Opt.TO(optimizationParams, ft)"
   ]
  },
  {
   "cell_type": "code",
   "execution_count": null,
   "id": "6e1681b8-5da6-4c8d-ba8a-b48138f2acd1",
   "metadata": {},
   "outputs": [],
   "source": []
  }
 ],
 "metadata": {
  "accelerator": "GPU",
  "colab": {
   "include_colab_link": true,
   "name": "compliance.ipynb",
   "provenance": []
  },
  "kernelspec": {
   "display_name": "Python 3 (ipykernel)",
   "language": "python",
   "name": "python3"
  },
  "language_info": {
   "codemirror_mode": {
    "name": "ipython",
    "version": 3
   },
   "file_extension": ".py",
   "mimetype": "text/x-python",
   "name": "python",
   "nbconvert_exporter": "python",
   "pygments_lexer": "ipython3",
   "version": "3.8.13"
  }
 },
 "nbformat": 4,
 "nbformat_minor": 5
}
