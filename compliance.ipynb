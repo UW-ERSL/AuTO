{
  "nbformat": 4,
  "nbformat_minor": 5,
  "metadata": {
    "kernelspec": {
      "display_name": "Python 3",
      "language": "python",
      "name": "python3"
    },
    "language_info": {
      "codemirror_mode": {
        "name": "ipython",
        "version": 3
      },
      "file_extension": ".py",
      "mimetype": "text/x-python",
      "name": "python",
      "nbconvert_exporter": "python",
      "pygments_lexer": "ipython3",
      "version": "3.8.5"
    },
    "colab": {
      "name": "compliance.ipynb",
      "provenance": [],
      "include_colab_link": true
    },
    "accelerator": "GPU"
  },
  "cells": [
    {
      "cell_type": "markdown",
      "metadata": {
        "id": "view-in-github",
        "colab_type": "text"
      },
      "source": [
        "<a href=\"https://colab.research.google.com/github/UW-ERSL/AuTO/blob/main/compliance.ipynb\" target=\"_parent\"><img src=\"https://colab.research.google.com/assets/colab-badge.svg\" alt=\"Open In Colab\"/></a>"
      ]
    },
    {
      "cell_type": "markdown",
      "metadata": {
        "id": "modern-reaction"
      },
      "source": [
        "### Imports"
      ],
      "id": "modern-reaction"
    },
    {
      "cell_type": "code",
      "metadata": {
        "id": "united-venture"
      },
      "source": [
        "# run this first time to clone the directory \n",
        "!git clone https://github.com/UW-ERSL/AuTO.git\n",
        "%cd AuTO/models/"
      ],
      "id": "united-venture",
      "execution_count": null,
      "outputs": []
    },
    {
      "cell_type": "code",
      "metadata": {
        "id": "literary-windsor"
      },
      "source": [
        "# We begin by importing the necessary libraries\n",
        "import numpy as np\n",
        "import jax\n",
        "import jax.numpy as jnp\n",
        "from jax import jit, value_and_grad\n",
        "from jax.ops import index, index_add\n",
        "import time\n",
        "from utilfuncs import Mesher, computeLocalElements, computeFilter\n",
        "from mmaOptimize import optimize\n",
        "import matplotlib.pyplot as plt"
      ],
      "id": "literary-windsor",
      "execution_count": 2,
      "outputs": []
    },
    {
      "cell_type": "markdown",
      "metadata": {
        "id": "municipal-division"
      },
      "source": [
        "### Mesh"
      ],
      "id": "municipal-division"
    },
    {
      "cell_type": "code",
      "metadata": {
        "id": "tested-dimension"
      },
      "source": [
        "nelx, nely = 60, 30\n",
        "elemSize = np.array([1., 1.])\n",
        "mesh = {'nelx':nelx, 'nely':nely, 'elemSize':elemSize,\\\n",
        "        'ndof':2*(nelx+1)*(nely+1), 'numElems':nelx*nely}"
      ],
      "id": "tested-dimension",
      "execution_count": 3,
      "outputs": []
    },
    {
      "cell_type": "markdown",
      "metadata": {
        "id": "rising-rebound"
      },
      "source": [
        "### Material"
      ],
      "id": "rising-rebound"
    },
    {
      "cell_type": "code",
      "metadata": {
        "id": "pharmaceutical-gossip"
      },
      "source": [
        "material = {'Emax':1., 'Emin':1e-3, 'nu':0.3, 'penal':3.}"
      ],
      "id": "pharmaceutical-gossip",
      "execution_count": 4,
      "outputs": []
    },
    {
      "cell_type": "markdown",
      "metadata": {
        "id": "patent-structure"
      },
      "source": [
        "### Filter"
      ],
      "id": "patent-structure"
    },
    {
      "cell_type": "code",
      "metadata": {
        "id": "secondary-ontario"
      },
      "source": [
        "filterRadius = 1.5\n",
        "H, Hs = computeFilter(mesh, filterRadius)\n",
        "ft = {'type':1, 'H':H, 'Hs':Hs}"
      ],
      "id": "secondary-ontario",
      "execution_count": 5,
      "outputs": []
    },
    {
      "cell_type": "markdown",
      "metadata": {
        "id": "tender-listing"
      },
      "source": [
        "### Boundary condition"
      ],
      "id": "tender-listing"
    },
    {
      "cell_type": "code",
      "metadata": {
        "id": "straight-bidding"
      },
      "source": [
        "example = 1\n",
        "if(example == 1):\n",
        "    # tip cantilever\n",
        "    force = np.zeros((mesh['ndof'],1))\n",
        "    dofs=np.arange(mesh['ndof'])\n",
        "    fixed = dofs[0:2*(nely+1):1]\n",
        "    free = jnp.setdiff1d(np.arange(mesh['ndof']),fixed)\n",
        "    force[2*(nelx+1)*(nely+1)-2*nely+1, 0 ] = -1\n",
        "    symXAxis = False\n",
        "    symYAxis = False\n",
        "elif(example == 2):\n",
        "    ndof = 2*(nelx+1)*(nely+1)\n",
        "    force = np.zeros((mesh['ndof'],1))\n",
        "    dofs=np.arange(mesh['ndof'])\n",
        "    fixed = dofs[0:2*(nely+1):1]\n",
        "    free = jnp.setdiff1d(np.arange(mesh['ndof']),fixed)\n",
        "    force[2*(nelx+1)*(nely+1)- (nely+1), 0 ] = -1\n",
        "    symXAxis = True\n",
        "    symYAxis = False\n",
        "bc = {'force':force, 'fixed':fixed,'free':free,\\\n",
        "          'symXAxis':symXAxis, 'symYAxis':symYAxis}"
      ],
      "id": "straight-bidding",
      "execution_count": 6,
      "outputs": []
    },
    {
      "cell_type": "markdown",
      "metadata": {
        "id": "valid-former"
      },
      "source": [
        "### Constraints"
      ],
      "id": "valid-former"
    },
    {
      "cell_type": "code",
      "metadata": {
        "id": "northern-affect"
      },
      "source": [
        "globalVolumeConstraint = {'isOn':True, 'vf':0.5}"
      ],
      "id": "northern-affect",
      "execution_count": 7,
      "outputs": []
    },
    {
      "cell_type": "markdown",
      "metadata": {
        "id": "private-kansas"
      },
      "source": [
        "### Optimize"
      ],
      "id": "private-kansas"
    },
    {
      "cell_type": "code",
      "metadata": {
        "id": "enclosed-crossing"
      },
      "source": [
        "optimizationParams = {'maxIters':200,'minIters':100,'relTol':0.05}\n",
        "projection = {'isOn':False, 'beta':4, 'c0':0.5}"
      ],
      "id": "enclosed-crossing",
      "execution_count": 8,
      "outputs": []
    },
    {
      "cell_type": "code",
      "metadata": {
        "id": "optical-forth"
      },
      "source": [
        "class ComplianceMinimizer:\n",
        "    def __init__(self, mesh, bc, material, \\\n",
        "                 globalvolCons, projection):\n",
        "        self.mesh = mesh\n",
        "        self.material = material\n",
        "        self.bc = bc\n",
        "        M = Mesher()\n",
        "        self.edofMat, self.idx = M.getMeshStructure(mesh)\n",
        "        self.K0 = M.getK0(self.material)\n",
        "        self.globalVolumeConstraint = globalvolCons\n",
        "        self.objectiveHandle = jit(value_and_grad(self. computeCompliance))\n",
        "        self.consHandle = self.computeConstraints\n",
        "        self.numConstraints = 1\n",
        "        self.projection = projection\n",
        "    #-----------------------#\n",
        "    # Code snippet 2.1\n",
        "    def computeCompliance(self, rho):\n",
        "        #-----------------------#\n",
        "        @jit\n",
        "        # Code snippet 2.9\n",
        "        def projectionFilter(rho):\n",
        "            if(self.projection['isOn']):\n",
        "                v1 = np.tanh(self.projection['c0']*self.projection['beta'])\n",
        "                nm = v1 + jnp.tanh(self.projection['beta']*(rho-self.projection['c0']))\n",
        "                dnm = v1 + jnp.tanh(self.projection['beta']*(1.-self.projection['c0']))\n",
        "                return nm/dnm\n",
        "            else:\n",
        "                return rho\n",
        "        #-----------------------#\n",
        "        @jit\n",
        "        # Code snippet 2.2\n",
        "        def materialModel(rho):\n",
        "            Y = self.material['Emin'] + \\\n",
        "                (self.material['Emax']-self.material['Emin'])*\\\n",
        "                                (rho+0.01)**self.material['penal']\n",
        "            return Y\n",
        "        #-----------------------#\n",
        "##         @jit\n",
        "          # Code snippet 2.8\n",
        "#         def materialModel(rho): # RAMP\n",
        "#             S = 8. # RAMP param\n",
        "#             Y = 0.001*self.material['Emax'] +\\\n",
        "#                     self.material['Emax']*(rho/ (1.+S*(1.-rho)) )\n",
        "#             return Y\n",
        "#         Y = materialModel(rho)\n",
        "        #-----------------------#\n",
        "        @jit\n",
        "        # Code snippet 2.3\n",
        "        def assembleK(Y):\n",
        "            K_asm = jnp.zeros((self.mesh['ndof'], self.mesh['ndof']))\n",
        "            K_elem = (self.K0.flatten()[np.newaxis]).T \n",
        "            K_elem = (K_elem*Y).T.flatten()\n",
        "            K_asm = jax.ops.index_add(K_asm, self.idx, K_elem)\n",
        "            return K_asm\n",
        "        #-----------------------#\n",
        "        @jit\n",
        "        # Code snippet 2.4\n",
        "        def solveKuf(K): \n",
        "            u_free = jax.scipy.linalg.solve\\\n",
        "                    (K[self.bc['free'],:][:,self.bc['free']], \\\n",
        "                    self.bc['force'][self.bc['free']], \\\n",
        "                     sym_pos = True, check_finite=False)\n",
        "            u = jnp.zeros((self.mesh['ndof']))\n",
        "            u = jax.ops.index_add(u, self.bc['free'],\\\n",
        "                                  u_free.reshape(-1))\n",
        "            return u\n",
        "        #-----------------------#\n",
        "        rho = projectionFilter(rho)\n",
        "        Y = materialModel(rho)\n",
        "        K = assembleK(Y)\n",
        "        u = solveKuf(K)\n",
        "\n",
        "        return jnp.dot(self.bc['force'].T, u)[0]\n",
        "    #-----------------------#\n",
        "    def computeConstraints(self, rho, epoch): \n",
        "        @jit\n",
        "        # Code snippet 2.6\n",
        "        def computeGlobalVolumeConstraint(rho):\n",
        "            g = jnp.mean(rho)/self.globalVolumeConstraint['vf'] - 1.\n",
        "            return g\n",
        "        # Code snippet 2.7\n",
        "        c, gradc = value_and_grad(computeGlobalVolumeConstraint)\\\n",
        "                                    (rho);\n",
        "        c, gradc = c.reshape((1,1)), gradc.reshape((1,-1))\n",
        "        return c, gradc\n",
        "    #-----------------------#\n",
        "    def TO(self, optimizationParams, ft):\n",
        "        optimize(self.mesh, optimizationParams, ft, \\\n",
        "             self.objectiveHandle, self.consHandle, self.numConstraints)"
      ],
      "id": "optical-forth",
      "execution_count": 9,
      "outputs": []
    },
    {
      "cell_type": "code",
      "metadata": {
        "id": "miniature-poker"
      },
      "source": [
        "Opt = ComplianceMinimizer(mesh, bc, material, \\\n",
        "                globalVolumeConstraint, projection)\n",
        "Opt.TO(optimizationParams, ft)"
      ],
      "id": "miniature-poker",
      "execution_count": null,
      "outputs": []
    }
  ]
}